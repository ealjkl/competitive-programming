{
 "cells": [
  {
   "cell_type": "code",
   "execution_count": 1,
   "metadata": {},
   "outputs": [],
   "source": [
    "n, e = [7, 3]\n",
    "a = [10, 2, 1, 3, 1, 19, 3,]"
   ]
  },
  {
   "cell_type": "code",
   "execution_count": 37,
   "metadata": {},
   "outputs": [],
   "source": [
    "def get_primes(m): \n",
    "    \"\"\"All prime numbers less or equal than m\"\"\"\n",
    "    sieve = [True]*(m + 1) #from 1 to m\n",
    "    for number in range(2, m + 1): \n",
    "        no_prime_number = 2*number\n",
    "        while (no_prime_number <= m):\n",
    "            # print(no_prime_number)\n",
    "            # print(no_prime_number, sieve)\n",
    "            sieve[no_prime_number] = False \n",
    "            no_prime_number += number\n",
    "    sieve[0] = False\n",
    "    return [i for i in range(2, m + 1) if sieve[i]]\n",
    "\n",
    "max_a = max(a)\n",
    "\n",
    "primes = get_primes(max_a)\n",
    "\n",
    "def is_prime(number):\n",
    "    if number == 1:\n",
    "        return False\n",
    "    is_number_prime = True \n",
    "    for p in (p for p in primes if p <= number**(1/2)):\n",
    "        if (number % p == 0) and (number > p): \n",
    "            is_number_prime = False\n",
    "\n",
    "    return is_number_prime \n",
    "\n",
    "is_prime_mask = [is_prime(el) for el in a]\n",
    "is_one_mask = [el == 1 for el in a]"
   ]
  },
  {
   "cell_type": "code",
   "execution_count": 38,
   "metadata": {},
   "outputs": [
    {
     "ename": "IndexError",
     "evalue": "list index out of range",
     "output_type": "error",
     "traceback": [
      "\u001b[0;31m---------------------------------------------------------------------------\u001b[0m",
      "\u001b[0;31mIndexError\u001b[0m                                Traceback (most recent call last)",
      "\u001b[0;32m/tmp/ipykernel_12352/461627427.py\u001b[0m in \u001b[0;36m<module>\u001b[0;34m\u001b[0m\n\u001b[1;32m      4\u001b[0m         \u001b[0madd_pair\u001b[0m \u001b[0;34m=\u001b[0m \u001b[0;32mTrue\u001b[0m\u001b[0;34m\u001b[0m\u001b[0;34m\u001b[0m\u001b[0m\n\u001b[1;32m      5\u001b[0m         \u001b[0;32mfor\u001b[0m \u001b[0mj\u001b[0m \u001b[0;32min\u001b[0m \u001b[0mrange\u001b[0m\u001b[0;34m(\u001b[0m\u001b[0mi\u001b[0m\u001b[0;34m,\u001b[0m \u001b[0mi\u001b[0m \u001b[0;34m+\u001b[0m \u001b[0mk\u001b[0m\u001b[0;34m*\u001b[0m\u001b[0me\u001b[0m\u001b[0;34m)\u001b[0m\u001b[0;34m:\u001b[0m\u001b[0;34m\u001b[0m\u001b[0;34m\u001b[0m\u001b[0m\n\u001b[0;32m----> 6\u001b[0;31m             \u001b[0;32mif\u001b[0m \u001b[0mis_prime_mask\u001b[0m\u001b[0;34m[\u001b[0m\u001b[0mj\u001b[0m\u001b[0;34m]\u001b[0m\u001b[0;34m:\u001b[0m\u001b[0;34m\u001b[0m\u001b[0;34m\u001b[0m\u001b[0m\n\u001b[0m\u001b[1;32m      7\u001b[0m                 \u001b[0madd_pair\u001b[0m \u001b[0;34m=\u001b[0m \u001b[0;32mFalse\u001b[0m\u001b[0;34m\u001b[0m\u001b[0;34m\u001b[0m\u001b[0m\n\u001b[1;32m      8\u001b[0m             \u001b[0;32mif\u001b[0m \u001b[0mj\u001b[0m \u001b[0;34m==\u001b[0m \u001b[0;36m1\u001b[0m\u001b[0;34m:\u001b[0m\u001b[0;34m\u001b[0m\u001b[0;34m\u001b[0m\u001b[0m\n",
      "\u001b[0;31mIndexError\u001b[0m: list index out of range"
     ]
    }
   ],
   "source": [
    "pairs_list = []\n",
    "for i in range(n): \n",
    "    for k in range(1, (n + 1)//e):\n",
    "        add_pair = True \n",
    "        for j in range(i, i + k*e): \n",
    "            if j >= n: \n",
    "                continue\n",
    "            if is_prime_mask[j]:\n",
    "                add_pair = False\n",
    "            if j == 1: \n",
    "                continue\n",
    "        if add_pair:\n",
    "            pairs_list.append((i + 1, k))\n",
    "\n",
    "pairs_list\n"
   ]
  }
 ],
 "metadata": {
  "interpreter": {
   "hash": "916dbcbb3f70747c44a77c7bcd40155683ae19c65e1c03b4aa3499c5328201f1"
  },
  "kernelspec": {
   "display_name": "Python 3.8.10 64-bit",
   "language": "python",
   "name": "python3"
  },
  "language_info": {
   "codemirror_mode": {
    "name": "ipython",
    "version": 3
   },
   "file_extension": ".py",
   "mimetype": "text/x-python",
   "name": "python",
   "nbconvert_exporter": "python",
   "pygments_lexer": "ipython3",
   "version": "3.8.10"
  },
  "orig_nbformat": 4
 },
 "nbformat": 4,
 "nbformat_minor": 2
}
