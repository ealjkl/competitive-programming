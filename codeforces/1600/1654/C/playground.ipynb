{
 "cells": [
  {
   "cell_type": "code",
   "execution_count": 51,
   "metadata": {},
   "outputs": [
    {
     "name": "stdout",
     "output_type": "stream",
     "text": [
      "Counter({4: 3, 1: 2, 2: 2, 3: 1})\n",
      "Counter({4: 2, 1: 2, 2: 2, 3: 1})\n"
     ]
    }
   ],
   "source": [
    "from collections import Counter\n",
    "\n",
    "counter = Counter([4, 4, 4, 1, 2, 3, 1, 2])\n",
    "\n",
    "counter2 = counter.copy()\n",
    "\n",
    "print(counter)\n",
    "counter[4] -=1 \n",
    "print(counter)"
   ]
  },
  {
   "cell_type": "code",
   "execution_count": 76,
   "metadata": {},
   "outputs": [],
   "source": [
    "from bisect import insort\n",
    "class SortedCounter(Counter):\n",
    "    def __init__(self, *args, **kwargs):\n",
    "        super().__init__(*args, **kwargs)\n",
    "        self.sorted_elements = sorted(self.elements())\n",
    "        self.sorted_keys = sorted(self.keys())\n",
    "\n",
    "    def add(self, key):\n",
    "        self[key] += 1\n",
    "        insort(self.sorted_elements, key)\n",
    "        insort(self.sorted_keys, key)\n",
    "\n",
    "    def remove(self, key, manual=False):\n",
    "        self[key] -= 1\n",
    "        if self[key] == 0:\n",
    "            del self[key]\n",
    "            if not manual:\n",
    "                self.sorted_keys.remove(key)\n",
    "        \n",
    "        if not manual:\n",
    "            self.sorted_elements.remove(key)\n",
    "    \n",
    "    def min(self):\n",
    "        return self.sorted_keys[0]\n",
    "    \n",
    "    def max(self):\n",
    "        return self.sorted_keys[-1]\n",
    "\n",
    "    def second(self):\n",
    "        if self.min() == self.max():\n",
    "            return None\n",
    "        else:\n",
    "            return self.sorted_keys[1]\n"
   ]
  },
  {
   "cell_type": "code",
   "execution_count": 78,
   "metadata": {},
   "outputs": [
    {
     "data": {
      "text/plain": [
       "[2, 3, 4]"
      ]
     },
     "execution_count": 78,
     "metadata": {},
     "output_type": "execute_result"
    }
   ],
   "source": [
    "scounter = SortedCounter([4, 4, 4, 1, 2, 3, 1, 2])\n",
    "scounter.remove(4)\n",
    "scounter.remove(1)\n",
    "scounter.remove(1)\n"
   ]
  },
  {
   "cell_type": "code",
   "execution_count": 95,
   "metadata": {},
   "outputs": [
    {
     "data": {
      "text/plain": [
       "[1, 2, 3, 5, 10]"
      ]
     },
     "execution_count": 95,
     "metadata": {},
     "output_type": "execute_result"
    }
   ],
   "source": [
    "from bisect import bisect_left\n",
    "x = bisect_left((a:= [1, 2, 5, 10]), 3)\n",
    "a.insert(x, 3)\n",
    "a"
   ]
  }
 ],
 "metadata": {
  "interpreter": {
   "hash": "916dbcbb3f70747c44a77c7bcd40155683ae19c65e1c03b4aa3499c5328201f1"
  },
  "kernelspec": {
   "display_name": "Python 3.8.10 64-bit",
   "language": "python",
   "name": "python3"
  },
  "language_info": {
   "codemirror_mode": {
    "name": "ipython",
    "version": 3
   },
   "file_extension": ".py",
   "mimetype": "text/x-python",
   "name": "python",
   "nbconvert_exporter": "python",
   "pygments_lexer": "ipython3",
   "version": "3.8.10"
  },
  "orig_nbformat": 4
 },
 "nbformat": 4,
 "nbformat_minor": 2
}
