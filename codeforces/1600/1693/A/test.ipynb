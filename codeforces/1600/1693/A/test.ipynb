{
 "cells": [
  {
   "cell_type": "code",
   "execution_count": 13,
   "metadata": {},
   "outputs": [],
   "source": [
    "import numpy as np\n",
    "\n",
    "def createArray(n=10):\n",
    "    return list(np.random.randint(0, 100, n))"
   ]
  },
  {
   "cell_type": "code",
   "execution_count": 14,
   "metadata": {},
   "outputs": [
    {
     "data": {
      "text/plain": [
       "([4,\n",
       "  3,\n",
       "  16,\n",
       "  19,\n",
       "  23,\n",
       "  14,\n",
       "  27,\n",
       "  59,\n",
       "  85,\n",
       "  93,\n",
       "  68,\n",
       "  36,\n",
       "  98,\n",
       "  30,\n",
       "  59,\n",
       "  92,\n",
       "  90,\n",
       "  35,\n",
       "  51,\n",
       "  56],\n",
       " 6,\n",
       " 27)"
      ]
     },
     "execution_count": 14,
     "metadata": {},
     "output_type": "execute_result"
    }
   ],
   "source": [
    "\n",
    "def partition(A, p, r):\n",
    "    x = A[r - 1]\n",
    "    i = p - 1\n",
    "    for j in range(p, r - 1):\n",
    "        if A[j] <= x:\n",
    "            i += 1\n",
    "            A[i], A[j] = A[j], A[i]\n",
    "    A[r - 1], A[i + 1] = A[i + 1], A[r - 1]\n",
    "    return i + 1\n",
    "\n",
    "A = createArray(20)\n",
    "q = partition(A, 0, len(A))\n",
    "A, q, A[q]\n"
   ]
  },
  {
   "cell_type": "code",
   "execution_count": 108,
   "metadata": {},
   "outputs": [
    {
     "name": "stdout",
     "output_type": "stream",
     "text": [
      "[88, 93, 89, 55, 9, 81, 40, 55, 24, 91]\n",
      "1 8\n",
      "1 3\n",
      "1 0\n",
      "[9, 55, 40, 55, 81, 88, 89, 24, 91, 93]\n",
      "computed 55\n",
      "easy 24\n",
      "[9, 24, 40, 55, 55, 81, 88, 89, 91, 93]\n"
     ]
    }
   ],
   "source": [
    "def select(A, p, r, i):\n",
    "    if p == r - 1 or p == r:\n",
    "        return A[p]\n",
    "    q = partition(A, p, r)\n",
    "    k = q - p\n",
    "    print(i, k)\n",
    "    if i == k:\n",
    "        return A[q]\n",
    "    elif i < k:\n",
    "        return select(A, p, q - 1, i)\n",
    "    else: \n",
    "        return select(A, q + 1, r, i - k)\n",
    "\n",
    "B = createArray(10)\n",
    "print(B)\n",
    "i = 1 \n",
    "Bi = select(B, 0, len(B), i)\n",
    "print(B)\n",
    "print(\"computed\", Bi)\n",
    "print(\"easy\", sorted(B)[i])\n",
    "print(sorted(B))\n"
   ]
  },
  {
   "cell_type": "code",
   "execution_count": 251,
   "metadata": {},
   "outputs": [],
   "source": [
    "def select(A, p, r, i):\n",
    "    if p == r - 1:\n",
    "        return A[p]\n",
    "    q = partition(A, p, r)\n",
    "    # print(\"p, q:\", p, q)\n",
    "    k = q - p\n",
    "    # print(\"k, i:\", k, i)\n",
    "    if i == k:\n",
    "        return A[q]\n",
    "    elif i < k:\n",
    "        return select(A, p, q, i)\n",
    "    else:\n",
    "        return select(A, q + 1, r, i - k - 1)\n",
    "\n",
    "n = 10 \n",
    "i = 5 \n",
    "for j in range(3000):\n",
    "    A = createArray(n)\n",
    "    # print(A)\n",
    "    B = sorted(A)\n",
    "    assert B[i] == select(A, 0, n, i)\n",
    "# print(\"returned\", select(A, 0, n, i))\n",
    "# print(\"Bi\", B[i])"
   ]
  }
 ],
 "metadata": {
  "kernelspec": {
   "display_name": "Python 3.8.10 64-bit",
   "language": "python",
   "name": "python3"
  },
  "language_info": {
   "codemirror_mode": {
    "name": "ipython",
    "version": 3
   },
   "file_extension": ".py",
   "mimetype": "text/x-python",
   "name": "python",
   "nbconvert_exporter": "python",
   "pygments_lexer": "ipython3",
   "version": "3.8.10"
  },
  "orig_nbformat": 4,
  "vscode": {
   "interpreter": {
    "hash": "916dbcbb3f70747c44a77c7bcd40155683ae19c65e1c03b4aa3499c5328201f1"
   }
  }
 },
 "nbformat": 4,
 "nbformat_minor": 2
}
